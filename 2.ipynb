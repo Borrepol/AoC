{
 "cells": [
  {
   "cell_type": "code",
   "execution_count": 1,
   "metadata": {},
   "outputs": [],
   "source": [
    "import csv"
   ]
  },
  {
   "cell_type": "code",
   "execution_count": 4,
   "metadata": {},
   "outputs": [
    {
     "data": {
      "text/plain": [
       "[['forward', 6], ['forward', 6], ['down', 6]]"
      ]
     },
     "execution_count": 4,
     "metadata": {},
     "output_type": "execute_result"
    }
   ],
   "source": [
    "with open('2_input.csv', 'r') as f:\n",
    "    reader = csv.reader(f, delimiter=' ')\n",
    "    data = [x for x in reader]\n",
    "\n",
    "for x in data:\n",
    "    x[1] = int(x[1])\n",
    "\n",
    "data[:3]"
   ]
  },
  {
   "cell_type": "code",
   "execution_count": 5,
   "metadata": {},
   "outputs": [],
   "source": [
    "h_pos = 0\n",
    "v_pos = 0 # = depth\n",
    "\n",
    "for x in data:\n",
    "    if x[0] == 'forward':\n",
    "        h_pos = h_pos + x[1]\n",
    "    elif x[0] == 'down':\n",
    "        v_pos = v_pos + x[1]\n",
    "    elif x[0] == 'up':\n",
    "        v_pos = v_pos - x[1]\n",
    "    else:\n",
    "        print(f'Wrong direction detected for {x}')"
   ]
  },
  {
   "cell_type": "code",
   "execution_count": 6,
   "metadata": {},
   "outputs": [
    {
     "data": {
      "text/plain": [
       "1815044"
      ]
     },
     "execution_count": 6,
     "metadata": {},
     "output_type": "execute_result"
    }
   ],
   "source": [
    "h_pos * v_pos"
   ]
  },
  {
   "cell_type": "markdown",
   "metadata": {},
   "source": [
    "Part 2"
   ]
  },
  {
   "cell_type": "code",
   "execution_count": 7,
   "metadata": {},
   "outputs": [],
   "source": [
    "aim = 0\n",
    "h_pos = 0\n",
    "v_pos = 0\n",
    "\n",
    "for dir, amount in data:\n",
    "    if dir == 'down':\n",
    "        aim = aim + amount\n",
    "    elif dir == 'up':\n",
    "        aim = aim - amount\n",
    "    elif dir == 'forward':\n",
    "        h_pos = h_pos + amount\n",
    "        v_pos = v_pos + (aim * amount)\n",
    "    else:\n",
    "        print(f'Something went wrong with: {dir, amount}')"
   ]
  },
  {
   "cell_type": "code",
   "execution_count": 8,
   "metadata": {},
   "outputs": [
    {
     "data": {
      "text/plain": [
       "1739283308"
      ]
     },
     "execution_count": 8,
     "metadata": {},
     "output_type": "execute_result"
    }
   ],
   "source": [
    "h_pos * v_pos"
   ]
  }
 ],
 "metadata": {
  "interpreter": {
   "hash": "36caefe7215307ed578f4d92d01bd28f1808a72e3386fc1d29c3dfcc516d931b"
  },
  "kernelspec": {
   "display_name": "Python 3.10.0 64-bit ('3.10.0': pyenv)",
   "language": "python",
   "name": "python3"
  },
  "language_info": {
   "codemirror_mode": {
    "name": "ipython",
    "version": 3
   },
   "file_extension": ".py",
   "mimetype": "text/x-python",
   "name": "python",
   "nbconvert_exporter": "python",
   "pygments_lexer": "ipython3",
   "version": "3.10.0"
  },
  "orig_nbformat": 4
 },
 "nbformat": 4,
 "nbformat_minor": 2
}
