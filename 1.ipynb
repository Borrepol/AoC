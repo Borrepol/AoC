{
 "cells": [
  {
   "cell_type": "code",
   "execution_count": 2,
   "metadata": {},
   "outputs": [],
   "source": [
    "import csv"
   ]
  },
  {
   "cell_type": "code",
   "execution_count": 20,
   "metadata": {},
   "outputs": [
    {
     "data": {
      "text/plain": [
       "[123, 126, 130]"
      ]
     },
     "execution_count": 20,
     "metadata": {},
     "output_type": "execute_result"
    }
   ],
   "source": [
    "with open('1_input.csv', 'r') as f:\n",
    "    reader = csv.reader(f)\n",
    "    data = [int(x[0]) for x in reader]\n",
    "\n",
    "data[:3]"
   ]
  },
  {
   "cell_type": "code",
   "execution_count": 21,
   "metadata": {},
   "outputs": [
    {
     "name": "stdout",
     "output_type": "stream",
     "text": [
      "Amount of measurements that are larger than the previous measurement: 1759\n"
     ]
    }
   ],
   "source": [
    "counter = 0\n",
    "for i, d in enumerate(data):\n",
    "    if d > data[i - 1]:\n",
    "        counter = counter + 1\n",
    "\n",
    "print(f'Amount of measurements that are larger than the previous measurement: {counter}')\n"
   ]
  },
  {
   "cell_type": "code",
   "execution_count": 23,
   "metadata": {},
   "outputs": [
    {
     "name": "stdout",
     "output_type": "stream",
     "text": [
      "Amount of measurements of the sliding window that are larger than the previous: 1805\n"
     ]
    }
   ],
   "source": [
    "# Now use a sliding window of three elements. Don't use the ones where no three elements are available (at the end)\n",
    "counter = 0\n",
    "ls = 10000000 # First time ls (short for last-sum) is too high so that it doesn't count the first sum as higher than any supposed previous one.\n",
    "for i in range(len(data) - 2):\n",
    "    s = data[i] + data[i + 1] + data[i + 2]\n",
    "    if s > ls:\n",
    "        counter = counter + 1\n",
    "    ls = s\n",
    "\n",
    "print(f'Amount of measurements of the sliding window that are larger than the previous: {counter}')"
   ]
  }
 ],
 "metadata": {
  "interpreter": {
   "hash": "36caefe7215307ed578f4d92d01bd28f1808a72e3386fc1d29c3dfcc516d931b"
  },
  "kernelspec": {
   "display_name": "Python 3.10.0 64-bit ('3.10.0': pyenv)",
   "language": "python",
   "name": "python3"
  },
  "language_info": {
   "codemirror_mode": {
    "name": "ipython",
    "version": 3
   },
   "file_extension": ".py",
   "mimetype": "text/x-python",
   "name": "python",
   "nbconvert_exporter": "python",
   "pygments_lexer": "ipython3",
   "version": "3.10.0"
  },
  "orig_nbformat": 4
 },
 "nbformat": 4,
 "nbformat_minor": 2
}
