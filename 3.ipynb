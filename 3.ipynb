{
 "cells": [
  {
   "cell_type": "code",
   "execution_count": 48,
   "metadata": {},
   "outputs": [],
   "source": [
    "import csv"
   ]
  },
  {
   "cell_type": "code",
   "execution_count": 84,
   "metadata": {},
   "outputs": [
    {
     "data": {
      "text/plain": [
       "[3176, 3804, 2156]"
      ]
     },
     "execution_count": 84,
     "metadata": {},
     "output_type": "execute_result"
    }
   ],
   "source": [
    "data = []\n",
    "def reload_data():\n",
    "    global data\n",
    "    with open('3_input.csv', 'r') as f:\n",
    "        reader = csv.reader(f)\n",
    "        data = [int(f'0b{x[0]}', 2) for x in reader]\n",
    "\n",
    "reload_data()\n",
    "data[:3]"
   ]
  },
  {
   "cell_type": "code",
   "execution_count": 4,
   "metadata": {},
   "outputs": [
    {
     "data": {
      "text/plain": [
       "4"
      ]
     },
     "execution_count": 4,
     "metadata": {},
     "output_type": "execute_result"
    }
   ],
   "source": [
    "a = 0b1001\n",
    "b = 0b0110\n",
    "\n",
    "a >> 1"
   ]
  },
  {
   "cell_type": "code",
   "execution_count": 5,
   "metadata": {},
   "outputs": [
    {
     "data": {
      "text/plain": [
       "4"
      ]
     },
     "execution_count": 5,
     "metadata": {},
     "output_type": "execute_result"
    }
   ],
   "source": [
    "c = 0b0100\n",
    "c"
   ]
  },
  {
   "cell_type": "code",
   "execution_count": 30,
   "metadata": {},
   "outputs": [
    {
     "data": {
      "text/plain": [
       "'100111100010'"
      ]
     },
     "execution_count": 30,
     "metadata": {},
     "output_type": "execute_result"
    }
   ],
   "source": [
    "result = ''\n",
    "for i in range(12):\n",
    "    # Reset values\n",
    "    ones = 0\n",
    "    zeros = 0\n",
    "    for x in data:\n",
    "        x >>= i # Bit-shift so that the wanted bit is on the rightmost digit of the number.\n",
    "        if x % 2 == 0:\n",
    "            # Number is even means that the right-most digit is a zero\n",
    "            ones += 1\n",
    "        else:\n",
    "            # Number is odd means that the right-most digit is a one\n",
    "            zeros += 1\n",
    "    if ones > zeros:\n",
    "        result = f'1{result}'\n",
    "    elif ones < zeros:\n",
    "        result = f'0{result}'\n",
    "    else:\n",
    "        print(f'Exactly as much zeros as ones in this row.')\n",
    "\n",
    "result"
   ]
  },
  {
   "cell_type": "code",
   "execution_count": 31,
   "metadata": {},
   "outputs": [
    {
     "data": {
      "text/plain": [
       "2530"
      ]
     },
     "execution_count": 31,
     "metadata": {},
     "output_type": "execute_result"
    }
   ],
   "source": [
    "gamma = int(result, 2)\n",
    "gamma"
   ]
  },
  {
   "cell_type": "code",
   "execution_count": 32,
   "metadata": {},
   "outputs": [
    {
     "data": {
      "text/plain": [
       "1565"
      ]
     },
     "execution_count": 32,
     "metadata": {},
     "output_type": "execute_result"
    }
   ],
   "source": [
    "epsilon = gamma ^ 0b111111111111 # XOR with only ones results in all bits inverted\n",
    "epsilon"
   ]
  },
  {
   "cell_type": "code",
   "execution_count": 33,
   "metadata": {},
   "outputs": [
    {
     "data": {
      "text/plain": [
       "3959450"
      ]
     },
     "execution_count": 33,
     "metadata": {},
     "output_type": "execute_result"
    }
   ],
   "source": [
    "epsilon * gamma"
   ]
  },
  {
   "cell_type": "markdown",
   "metadata": {},
   "source": [
    "Part two"
   ]
  },
  {
   "cell_type": "code",
   "execution_count": 99,
   "metadata": {},
   "outputs": [
    {
     "name": "stdout",
     "output_type": "stream",
     "text": [
      "2039\n"
     ]
    }
   ],
   "source": [
    "reload_data()\n",
    "\n",
    "for i in range(11, -1, -1):\n",
    "    zeros = 0\n",
    "    zeros_l = []\n",
    "    ones = 0\n",
    "    ones_l = []\n",
    "    for x in data:\n",
    "        s = x >> i\n",
    "        if s % 2 == 0:\n",
    "            zeros += 1\n",
    "            zeros_l.append(x)\n",
    "        else:\n",
    "            ones += 1\n",
    "            ones_l.append(x)\n",
    "    if zeros > ones:\n",
    "        data = [x for x in data if x in zeros_l]\n",
    "    elif ones >= zeros:\n",
    "        data = [x for x in data if x in ones_l]\n",
    "\n",
    "oxygen_generator_rating = data[0]\n",
    "print(oxygen_generator_rating)"
   ]
  },
  {
   "cell_type": "code",
   "execution_count": 100,
   "metadata": {},
   "outputs": [
    {
     "name": "stdout",
     "output_type": "stream",
     "text": [
      "Oxygen Generator Rating: 2039\n",
      "CO2 Scrubbing Rating: 3649\n",
      "Combined: 7440311\n"
     ]
    }
   ],
   "source": [
    "reload_data()\n",
    "\n",
    "for i in range(11, -1, -1):\n",
    "    zeros = 0\n",
    "    zeros_l = []\n",
    "    ones = 0\n",
    "    ones_l = []\n",
    "    for x in data:\n",
    "        s = x >> i\n",
    "        if s % 2 == 0:\n",
    "            zeros += 1\n",
    "            zeros_l.append(x)\n",
    "        else:\n",
    "            ones += 1\n",
    "            ones_l.append(x)\n",
    "\n",
    "    if zeros > ones:\n",
    "        data = [x for x in data if x in ones_l]\n",
    "    elif ones >= zeros:\n",
    "        data = [x for x in data if x in zeros_l]\n",
    "\n",
    "    if len(data) == 1:\n",
    "        break\n",
    "\n",
    "\n",
    "co2_scrubbing_rating = data[0]\n",
    "print(f'Oxygen Generator Rating: {oxygen_generator_rating}')\n",
    "print(f'CO2 Scrubbing Rating: {co2_scrubbing_rating}')\n",
    "print(f'Combined: {oxygen_generator_rating * co2_scrubbing_rating}')"
   ]
  }
 ],
 "metadata": {
  "interpreter": {
   "hash": "36caefe7215307ed578f4d92d01bd28f1808a72e3386fc1d29c3dfcc516d931b"
  },
  "kernelspec": {
   "display_name": "Python 3.10.0 64-bit ('3.10.0': pyenv)",
   "language": "python",
   "name": "python3"
  },
  "language_info": {
   "codemirror_mode": {
    "name": "ipython",
    "version": 3
   },
   "file_extension": ".py",
   "mimetype": "text/x-python",
   "name": "python",
   "nbconvert_exporter": "python",
   "pygments_lexer": "ipython3",
   "version": "3.10.0"
  },
  "orig_nbformat": 4
 },
 "nbformat": 4,
 "nbformat_minor": 2
}
